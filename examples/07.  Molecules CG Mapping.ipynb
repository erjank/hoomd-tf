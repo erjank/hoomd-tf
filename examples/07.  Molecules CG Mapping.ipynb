{
 "cells": [
  {
   "cell_type": "markdown",
   "metadata": {},
   "source": [
    "# 07. Molecules CG Mapping \n",
    "\n",
    "In this tutorial, we show how to generate a CG mapping matrix for a molecule given a bead distribution. The trajectory and topology file come from a AA simulation done in gromacs (see `Molecules_CG_Mapping` folder). The protein is FF (diphenylalanine) and the solvent is a mixture of water and methanol."
   ]
  },
  {
   "cell_type": "code",
   "execution_count": 1,
   "metadata": {},
   "outputs": [],
   "source": [
    "# disable GPU\n",
    "import os\n",
    "os.environ['CUDA_VISIBLE_DEVICES'] = '-1'\n",
    "import hoomd, hoomd.htf as htf, hoomd.md\n",
    "import matplotlib.pyplot as plt\n",
    "import tensorflow as tf\n",
    "import numpy as np\n",
    "import MDAnalysis as mda\n",
    "from os import path\n",
    "import pickle"
   ]
  },
  {
   "cell_type": "code",
   "execution_count": 2,
   "metadata": {
    "scrolled": true
   },
   "outputs": [
    {
     "name": "stderr",
     "output_type": "stream",
     "text": [
      "/home/mgholiza/.conda/envs/hoomd-tf2/lib/python3.7/site-packages/MDAnalysis/core/universe.py:171: UserWarning: No coordinate reader found for Molecules_CG_Mapping/nvt_prod.tpr. Skipping this file.\n",
      "  'this file.'.format(filename))\n"
     ]
    },
    {
     "name": "stdout",
     "output_type": "stream",
     "text": [
      "[[0.8224383  0.05918723 0.05918723 0.05918723 0.         0.\n",
      "  0.         0.         0.         0.         0.         0.\n",
      "  0.         0.         0.         0.         0.         0.\n",
      "  0.         0.         0.         0.         0.         0.\n",
      "  0.         0.         0.         0.         0.         0.\n",
      "  0.         0.         0.         0.         0.         0.\n",
      "  0.         0.         0.         0.         0.         0.\n",
      "  0.        ]\n",
      " [0.         0.         0.         0.         0.44409524 0.03726984\n",
      "  0.44409524 0.03726984 0.03726984 0.         0.         0.\n",
      "  0.         0.         0.         0.         0.         0.\n",
      "  0.         0.         0.         0.         0.         0.\n",
      "  0.         0.         0.         0.         0.         0.\n",
      "  0.         0.         0.         0.         0.         0.\n",
      "  0.         0.         0.         0.         0.         0.\n",
      "  0.        ]\n",
      " [0.         0.         0.         0.         0.         0.\n",
      "  0.         0.         0.         0.15577257 0.15577257 0.01307291\n",
      "  0.15577257 0.01307291 0.15577257 0.01307291 0.15577257 0.01307291\n",
      "  0.15577257 0.01307291 0.         0.         0.         0.\n",
      "  0.         0.         0.         0.         0.         0.\n",
      "  0.         0.         0.         0.         0.         0.\n",
      "  0.         0.         0.         0.         0.         0.\n",
      "  0.        ]\n",
      " [0.         0.         0.         0.         0.         0.\n",
      "  0.         0.         0.         0.         0.         0.\n",
      "  0.         0.         0.         0.         0.         0.\n",
      "  0.         0.         0.42880501 0.57119499 0.         0.\n",
      "  0.         0.         0.         0.         0.         0.\n",
      "  0.         0.         0.         0.         0.         0.\n",
      "  0.         0.         0.         0.         0.         0.\n",
      "  0.        ]\n",
      " [0.         0.         0.         0.         0.         0.\n",
      "  0.         0.         0.         0.         0.         0.\n",
      "  0.         0.         0.         0.         0.         0.\n",
      "  0.         0.         0.         0.         0.93286579 0.06713421\n",
      "  0.         0.         0.         0.         0.         0.\n",
      "  0.         0.         0.         0.         0.         0.\n",
      "  0.         0.         0.         0.         0.         0.\n",
      "  0.        ]\n",
      " [0.         0.         0.         0.         0.         0.\n",
      "  0.         0.         0.         0.         0.         0.\n",
      "  0.         0.         0.         0.         0.         0.\n",
      "  0.         0.         0.         0.         0.         0.\n",
      "  0.44409524 0.03726984 0.44409524 0.03726984 0.03726984 0.\n",
      "  0.         0.         0.         0.         0.         0.\n",
      "  0.         0.         0.         0.         0.         0.\n",
      "  0.        ]\n",
      " [0.         0.         0.         0.         0.         0.\n",
      "  0.         0.         0.         0.         0.         0.\n",
      "  0.         0.         0.         0.         0.         0.\n",
      "  0.         0.         0.         0.         0.         0.\n",
      "  0.         0.         0.         0.         0.         0.15577257\n",
      "  0.15577257 0.01307291 0.15577257 0.01307291 0.15577257 0.01307291\n",
      "  0.15577257 0.01307291 0.15577257 0.01307291 0.         0.\n",
      "  0.        ]\n",
      " [0.         0.         0.         0.         0.         0.\n",
      "  0.         0.         0.         0.         0.         0.\n",
      "  0.         0.         0.         0.         0.         0.\n",
      "  0.         0.         0.         0.         0.         0.\n",
      "  0.         0.         0.         0.         0.         0.\n",
      "  0.         0.         0.         0.         0.         0.\n",
      "  0.         0.         0.         0.         0.27291648 0.36354176\n",
      "  0.36354176]]\n"
     ]
    }
   ],
   "source": [
    "# Loading inputs\n",
    "TPR = 'Molecules_CG_Mapping/nvt_prod.tpr'\n",
    "tpr = mda.Universe(TPR)\n",
    "TRAJECTORY = 'Molecules_CG_Mapping/traj.trr'\n",
    "u = mda.Universe(TPR, TRAJECTORY)\n",
    "\n",
    "# Generating Mapping Matrix for FF\n",
    "protein_FF = u.select_atoms(\"resname PHE and resid 0:1\")\n",
    "Beads_distribution = [['N','H1','H2','H3'],\n",
    "                     ['CA','HA','CB','HB1','HB2'],\n",
    "                     ['CG','CD1','HD1','CD2','HD2','CE1','HE1','CE2','HE2','CZ','HZ'],\n",
    "                     ['C','O'],\n",
    "                     ['N','H'],\n",
    "                     ['CA','HA','CB','HB1','HB2'],\n",
    "                     ['CG','CD1','HD1','CD2','HD2','CE1','HE1','CE2','HE2','CZ','HZ'],\n",
    "                     ['C','O1','O2']]\n",
    "mapping_FF = htf.matrix_mapping(protein_FF,Beads_distribution)\n",
    "print (mapping_FF)"
   ]
  },
  {
   "cell_type": "code",
   "execution_count": 3,
   "metadata": {},
   "outputs": [
    {
     "name": "stdout",
     "output_type": "stream",
     "text": [
      "[[0.88809574 0.05595213 0.05595213]]\n"
     ]
    }
   ],
   "source": [
    "# Generating Mapping Matrix for Water\n",
    "water = u.select_atoms(\"resname SOL and resid 500\")\n",
    "Beads_distribution = [['OW','HW1','HW2']]\n",
    "mapping_water = htf.matrix_mapping(water,Beads_distribution)             \n",
    "print (mapping_water)"
   ]
  },
  {
   "cell_type": "code",
   "execution_count": 4,
   "metadata": {},
   "outputs": [
    {
     "name": "stdout",
     "output_type": "stream",
     "text": [
      "[[0.37484707 0.03145832 0.03145832 0.03145832 0.49931966 0.03145832]]\n"
     ]
    }
   ],
   "source": [
    "# Generating Mapping Matrix for Methanol\n",
    "methanol = u.select_atoms(\"resname MET and resid 11665 \")\n",
    "Beads_distribution_methanol = [['C','H','H','H','OA','HO']]\n",
    "mapping_methanol = htf.matrix_mapping(methanol,Beads_distribution_methanol)             \n",
    "print (mapping_methanol)"
   ]
  },
  {
   "cell_type": "code",
   "execution_count": 5,
   "metadata": {},
   "outputs": [],
   "source": [
    "# Getting the segment id of each molecule in topology\n",
    "_,idx = np.unique(u.select_atoms('all').segids,return_index=True)\n",
    "seg_id_list = u.select_atoms('all').segids[np.sort(idx)].tolist()\n",
    "\n",
    "# Getting the list of every molecule type name in topology\n",
    "_,idx = np.unique(u.atoms.resnames,return_index=True)\n",
    "resname_list = u.atoms.resnames[np.sort(idx)].tolist()\n",
    "\n",
    "# Getting list of atoms in each type of molecule\n",
    "atoms_in_molecule_list = [protein_FF.names,\n",
    "                          water.names,\n",
    "                          methanol.names]"
   ]
  },
  {
   "cell_type": "code",
   "execution_count": 6,
   "metadata": {},
   "outputs": [],
   "source": [
    "# molecule_list_indexed = htf.find_molecules_from_topology(u,atoms_in_molecule_list)\n",
    "# print (molecule_list_indexed)"
   ]
  },
  {
   "cell_type": "markdown",
   "metadata": {},
   "source": [
    "## Building the model graph\n",
    "\n",
    "We build an LJ potential with unknown, trainable parameters (`epsilon`, `sigma`) which start out at 0.9 and 1.1. We then obtain forces from our potential and the simulation. Force matching is used to modify the LJ potential until the forces agree. We use Keras layers to implement the trainable parameters. We'll make our starting parameters $\\epsilon=1.2$ and $\\sigma=0.9$. The goal is train them to reach $\\sigma, \\epsilon = 1.0$"
   ]
  },
  {
   "cell_type": "code",
   "execution_count": 22,
   "metadata": {},
   "outputs": [],
   "source": [
    "class LJLayer(tf.keras.layers.Layer):\n",
    "    def __init__(self, sig, eps):\n",
    "        super().__init__(self, name='lj')\n",
    "        self.start = [sig, eps]\n",
    "        self.w = self.add_weight(\n",
    "            shape=[2],\n",
    "            initializer=tf.constant_initializer([sig, eps]),\n",
    "            constraint=tf.keras.constraints.NonNeg())\n",
    "\n",
    "    def call(self, r):\n",
    "        r6 = tf.math.divide_no_nan(self.w[1]**6, r**6)\n",
    "        energy = self.w[0] * 4.0 * (r6**2 - r6)\n",
    "        # divide by 2 to remove double count\n",
    "        return energy / 2.\n",
    "    \n",
    "class TrainableLJ(htf.SimModel):\n",
    "    def setup(self):\n",
    "        self.lj = LJLayer(0.9, 1.2)\n",
    "\n",
    "    def compute(self, nlist):\n",
    "        # get r\n",
    "        r = htf.safe_norm(tensor=nlist[:, :, :3], axis=2)\n",
    "        p_energy = self.lj(r)\n",
    "        energy = tf.reduce_sum(input_tensor=p_energy, axis=1)\n",
    "        forces = htf.compute_nlist_forces(nlist, energy)\n",
    "        return forces, self.lj.w, energy\n",
    "    \n",
    "class TrajModel(htf.SimModel):\n",
    "    def setup(self):\n",
    "        self.avg_chrdf = tf.keras.metrics.MeanTensor()\n",
    "        self.avg_ohrdf = tf.keras.metrics.MeanTensor()\n",
    "    def compute(self, nlist, positions):                \n",
    "        # pairwise energy. Double count -> divide by 2\n",
    "        inv_r6 = htf.nlist_rinv(nlist)**6\n",
    "        p_energy = 4.0 / 2.0 * (inv_r6 * inv_r6 - inv_r6)\n",
    "        # sum over pairwise energy\n",
    "        energy = tf.reduce_sum(p_energy, axis=1)\n",
    "        # get forces\n",
    "        forces = htf.compute_nlist_forces(nlist, energy)\n",
    "        \n",
    "        # now get RDF\n",
    "        # For reference, type indices in this case are: {C:0, H:1, N:2, O:3} \n",
    "        # compute C-H RDF\n",
    "        chrdf = htf.compute_rdf(\n",
    "            nlist, [0, 15], positions[:, 3], \n",
    "            nbins=20, type_i=0, type_j=1)\n",
    "        # compute O-H RDF\n",
    "        ohrdf = htf.compute_rdf(\n",
    "            nlist,[0, 15],  positions[:, 3], \n",
    "            nbins=20, type_i=3, type_j=1)\n",
    "        # average the RDFs\n",
    "        self.avg_chrdf.update_state(chrdf)\n",
    "        self.avg_ohrdf.update_state(ohrdf)\n",
    "        return forces\n",
    "    \n",
    "# define model\n",
    "class MappingModel(htf.SimModel):\n",
    "    def setup(self, CG_NN, cg_mapping, rcut):\n",
    "        self.CG_NN = CG_NN\n",
    "        self.rcut = rcut\n",
    "        self.cg_mapping = cg_mapping\n",
    "        self.avg_cg_rdf = tf.keras.metrics.MeanTensor()\n",
    "        self.avg_aa_rdf = tf.keras.metrics.MeanTensor()\n",
    "    def compute(self, nlist, positions, box):\n",
    "        # calculate the center of mass of a CG bead\n",
    "        box_size = htf.box_size(box)\n",
    "        mapped_pos = htf.center_of_mass(positions[:,:3], self.cg_mapping, box_size)\n",
    "        # create the mapped neighbot list\n",
    "        mapped_nlist = htf.compute_nlist(mapped_pos, self.rcut, self.CG_NN, box_size, True)\n",
    "        # compute RDF for mapped and C-C in all-atom\n",
    "        cg_rdf = htf.compute_rdf(mapped_nlist, [0.1,self.rcut])\n",
    "        aa_rdf = htf.compute_rdf(nlist, [0.1,self.rcut], positions[:,3], type_i=3, type_j=3)\n",
    "        self.avg_cg_rdf.update_state(cg_rdf)\n",
    "        self.avg_aa_rdf.update_state(aa_rdf)\n",
    "        return\n",
    "model = TrajModel(256)\n",
    "    \n"
   ]
  },
  {
   "cell_type": "markdown",
   "metadata": {},
   "source": [
    "## Run from trajectory\n",
    "\n",
    "We load the trajectory with `MDAnalysis` and then call the `iter_from_trajectory` command. It runs over the trajectory computing the graph and constructs neighborlists according to the r_cut. "
   ]
  },
  {
   "cell_type": "code",
   "execution_count": 20,
   "metadata": {},
   "outputs": [
    {
     "name": "stdout",
     "output_type": "stream",
     "text": [
      "(860, 4)\n",
      "[[78.98509979  0.          0.        ]\n",
      " [ 0.         78.98509979  0.        ]\n",
      " [ 0.          0.         78.98509979]]\n"
     ]
    }
   ],
   "source": [
    "for inputs, ts in htf.iter_from_trajectory(256, u,selection='resname PHE', r_cut=25):\n",
    "    result = model(inputs)\n",
    "    aa_pos = inputs[1]\n",
    "    box = inputs[2]\n",
    "#     aa_pos = inputs[1]    \n",
    "#     mapped_pos = ....\n",
    "#     mapped_forces = ...\n",
    "#     mapped_nlist = htf.compute_nlist(mapped_pos, ...)\n",
    "#     model_inputs = [mapped_pos, mapped_nlist] + inputs[2:] # get box,  other items\n",
    "#     loss = my_model.train_on_batch(x = model_inputs, y = mapped_forces)\n",
    "#     print(loss)\n",
    "print (np.shape(aa_pos))\n",
    "print (box)"
   ]
  },
  {
   "cell_type": "code",
   "execution_count": 15,
   "metadata": {},
   "outputs": [
    {
     "name": "stdout",
     "output_type": "stream",
     "text": [
      "(1, 860, 4)\n"
     ]
    }
   ],
   "source": [
    "print (np.shape(result))"
   ]
  },
  {
   "cell_type": "code",
   "execution_count": 21,
   "metadata": {},
   "outputs": [
    {
     "name": "stdout",
     "output_type": "stream",
     "text": [
      "39.492549895\n"
     ]
    }
   ],
   "source": [
    "print (78.98509979/2)"
   ]
  },
  {
   "cell_type": "code",
   "execution_count": null,
   "metadata": {},
   "outputs": [],
   "source": []
  }
 ],
 "metadata": {
  "kernelspec": {
   "display_name": "hoomd-tf2",
   "language": "python",
   "name": "hoomd-tf2"
  },
  "language_info": {
   "codemirror_mode": {
    "name": "ipython",
    "version": 3
   },
   "file_extension": ".py",
   "mimetype": "text/x-python",
   "name": "python",
   "nbconvert_exporter": "python",
   "pygments_lexer": "ipython3",
   "version": "3.7.8"
  }
 },
 "nbformat": 4,
 "nbformat_minor": 2
}
