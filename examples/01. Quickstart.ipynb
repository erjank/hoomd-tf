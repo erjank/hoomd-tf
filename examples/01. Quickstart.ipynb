{
 "cells": [
  {
   "cell_type": "markdown",
   "metadata": {},
   "source": [
    "# 01. Quickstart"
   ]
  },
  {
   "cell_type": "code",
   "execution_count": 2,
   "metadata": {},
   "outputs": [],
   "source": [
    "# import the hoomd, htf packages\n",
    "import hoomd\n",
    "import hoomd.htf as htf\n",
    "import tensorflow as tf"
   ]
  },
  {
   "cell_type": "markdown",
   "metadata": {},
   "source": [
    "## Build the SimModel\n",
    "\n",
    "Here we prepare the computations that will be executed at each step during the simulation. We have access to the neighbor list, positions, types, box dimensions of the simulation. Ignore sample_weight for now. Here we define a simple 1 / r potential, save its energy, and use the auto-differentiation tool to compute forces. "
   ]
  },
  {
   "cell_type": "code",
   "execution_count": 10,
   "metadata": {},
   "outputs": [],
   "source": [
    "class MyModel(htf.SimModel):\n",
    "    def compute(self, nlist, positions, box, sample_weight):\n",
    "        pair_energy = htf.nlist_rinv(nlist) # nlist_rinv is neighbor 1 / r\n",
    "        particle_energy = tf.reduce_sum(pair_energy, axis=1) # sum over neighbors        \n",
    "        forces = htf.compute_nlist_forces(nlist, particle_energy)\n",
    "        sys_energy = tf.reduce_sum(particle_energy) # output system energy\n",
    "        return forces, sys_energy"
   ]
  },
  {
   "cell_type": "markdown",
   "metadata": {},
   "source": [
    "## Running the simulation\n",
    "\n",
    "Now we run the simulation using the usual hoomd-blue syntax. We can specify things like how often the model is called, how often it is saved, etc. in the `attach` command. This simulation is 144 particles in 2D, whose forces are the ones we defined above. "
   ]
  },
  {
   "cell_type": "code",
   "execution_count": 13,
   "metadata": {},
   "outputs": [
    {
     "name": "stdout",
     "output_type": "stream",
     "text": [
      "notice(2): Group \"all\" created containing 144 particles\n",
      "notice(2): Force mode is FORCE_MODE.tf2hoomd \n",
      "notice(2): Starting TensorflowCompute \n",
      "notice(2): completed reallocate\n",
      "notice(2): Setting flag indicating virial modification will occur\n",
      "notice(2): -- Neighborlist exclusion statistics -- :\n",
      "notice(2): Particles with 0 exclusions             : 144\n",
      "notice(2): Neighbors included by diameter          : no\n",
      "notice(2): Neighbors excluded when in the same body: no\n",
      "** starting run **\n",
      "Time 00:00:00 | Step 250 / 250 | TPS 534.061 | ETA 00:00:00\n",
      "Average TPS: 533.464\n",
      "---------\n",
      "-- Neighborlist stats:\n",
      "20 normal updates / 3 forced updates / 0 dangerous updates\n",
      "n_neigh_min: 71 / n_neigh_max: 104 / n_neigh_avg: 92.5556\n",
      "shortest rebuild period: 5\n",
      "-- Cell list stats:\n",
      "Dimension: 2, 2, 1\n",
      "n_min    : 29 / n_max: 50 / n_avg: 36\n",
      "** run complete **\n"
     ]
    }
   ],
   "source": [
    "########### Hoomd-Sim Code ################\n",
    "hoomd.context.initialize(\"--mode=cpu\")\n",
    "# this will start TensorFlow, so it goes\n",
    "# in a with statement for clean exit.\n",
    "#\n",
    "# if calling initialize() without params, \n",
    "# it will be throw error of using unexpected parameter 'f'\n",
    "# ref: https://github.com/glotzerlab/hoomd-blue/blob/master/hoomd/context.py#L204\n",
    "\n",
    "model = MyModel(64)\n",
    "tfcompute = htf.tfcompute(model)\n",
    "\n",
    "# create a square lattice\n",
    "rcut = 5\n",
    "system = hoomd.init.create_lattice(unitcell=hoomd.lattice.sq(a=1.0),\n",
    "                                    n=[12,12])\n",
    "nlist = hoomd.md.nlist.cell()\n",
    "hoomd.md.integrate.mode_standard(dt=0.005)\n",
    "hoomd.md.integrate.nve(group=hoomd.group.all())\n",
    "tfcompute.attach(nlist, r_cut=rcut, save_output_period=10) # save energy every 10 steps\n",
    "hoomd.run(250)"
   ]
  },
  {
   "cell_type": "markdown",
   "metadata": {},
   "source": [
    "## Analysis\n",
    "\n",
    "Now we'll plot the system energy."
   ]
  },
  {
   "cell_type": "code",
   "execution_count": 14,
   "metadata": {},
   "outputs": [
    {
     "data": {
      "image/png": "[encoded data removed]",
      "text/plain": [
       "<Figure size 432x288 with 1 Axes>"
      ]
     },
     "metadata": {
      "needs_background": "light"
     },
     "output_type": "display_data"
    }
   ],
   "source": [
    "import matplotlib.pyplot as plt\n",
    "import numpy as np \n",
    "\n",
    "sys_energy = tfcompute.outputs[0]\n",
    "plt.plot(range(0, 250, 10), sys_energy)\n",
    "plt.ylabel('Energy')\n",
    "plt.xlabel('Time Step')\n",
    "plt.show()"
   ]
  }
 ],
 "metadata": {
  "kernelspec": {
   "display_name": "Python 3",
   "language": "python",
   "name": "python3"
  },
  "language_info": {
   "codemirror_mode": {
    "name": "ipython",
    "version": 3
   },
   "file_extension": ".py",
   "mimetype": "text/x-python",
   "name": "python",
   "nbconvert_exporter": "python",
   "pygments_lexer": "ipython3",
   "version": "3.7.8"
  }
 },
 "nbformat": 4,
 "nbformat_minor": 2
}
