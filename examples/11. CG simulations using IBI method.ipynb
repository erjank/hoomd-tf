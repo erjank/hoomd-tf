{
 "cells": [
  {
   "cell_type": "code",
   "execution_count": 8,
   "metadata": {},
   "outputs": [],
   "source": [
    "import hoomd\n",
    "import hoomd.htf as htf\n",
    "import tensorflow as tf\n",
    "import numpy as np\n",
    "import matplotlib\n",
    "import matplotlib.pyplot as plt\n",
    "import os\n",
    "os.environ['CUDA_VISIBLE_DEVICES'] = '-1'\n",
    "import warnings\n",
    "warnings.filterwarnings('ignore')"
   ]
  },
  {
   "cell_type": "code",
   "execution_count": 163,
   "metadata": {},
   "outputs": [],
   "source": [
    "import gsd,gsd.hoomd\n",
    "import gsd.pygsd\n",
    "import seaborn as sns\n",
    "import statistics as stat\n",
    "from scipy import stats\n",
    "from scipy.interpolate import interp1d"
   ]
  },
  {
   "cell_type": "markdown",
   "metadata": {},
   "source": [
    "In this example we will run a coarse-grained (CG) simulation for a 2 bead methanol system with 1000 CG molecules"
   ]
  },
  {
   "cell_type": "code",
   "execution_count": 12,
   "metadata": {},
   "outputs": [],
   "source": [
    "aa_rdf = np.load('CG_tutorial/aa_rdf.npy')\n",
    "cg_rdf = np.load('CG_tutorial/cg_rdf.npy')"
   ]
  },
  {
   "cell_type": "code",
   "execution_count": 20,
   "metadata": {},
   "outputs": [
    {
     "data": {
      "image/png": "[encoded data removed]",
      "text/plain": [
       "<Figure size 432x288 with 1 Axes>"
      ]
     },
     "metadata": {
      "needs_background": "light"
     },
     "output_type": "display_data"
    }
   ],
   "source": [
    "r = aa_rdf[1,:]\n",
    "plt.plot(aa_rdf[1,:], aa_rdf[0,:] / aa_rdf[0,-1],label ='All Atom C-C')\n",
    "plt.plot(cg_rdf[1,:], cg_rdf[0,:] / cg_rdf[0,-1], label='Mapped (CG)')\n",
    "plt.xlim(2.5,9)\n",
    "plt.ylim(0,3)\n",
    "plt.xlabel(r'r [$\\AA$]')\n",
    "plt.ylabel('$g(r)$')\n",
    "plt.legend()\n",
    "plt.show()"
   ]
  },
  {
   "cell_type": "code",
   "execution_count": 75,
   "metadata": {},
   "outputs": [],
   "source": []
  },
  {
   "cell_type": "code",
   "execution_count": 131,
   "metadata": {},
   "outputs": [
    {
     "name": "stdout",
     "output_type": "stream",
     "text": [
      "250\n",
      "(250, 6000, 3)\n"
     ]
    }
   ],
   "source": [
    "with gsd.hoomd.open('CG_tutorial/meth_traj.gsd', 'rb') as t:\n",
    "    cg_pos=[]\n",
    "    for i in range(len(t)):\n",
    "        cg_pos.append(t[i].particles.position)\n",
    "\n",
    "cg_pos = np.asarray(cg_pos)\n",
    "print(cg_pos.shape)"
   ]
  },
  {
   "cell_type": "code",
   "execution_count": 136,
   "metadata": {},
   "outputs": [
    {
     "name": "stdout",
     "output_type": "stream",
     "text": [
      "(250, 3)\n"
     ]
    }
   ],
   "source": [
    "print(cg_pos[:,7].shape)"
   ]
  },
  {
   "cell_type": "code",
   "execution_count": 143,
   "metadata": {},
   "outputs": [],
   "source": [
    "total_cg = []\n",
    "for mol in range(250):\n",
    "    cg_positions=[]\n",
    "    for i in range(0,1000):\n",
    "        c = i*6\n",
    "        o = 1 + i*6\n",
    "        b1 = cg_pos[mol][c]\n",
    "        b2 = cg_pos[mol][o]\n",
    "        cg_positions.append(b1)\n",
    "        cg_positions.append(b2)\n",
    "    total_cg.append(cg_positions)\n",
    "    \n",
    "np.save('CG_tutorial/meth_CGtraj_positions.npy',total_cg)"
   ]
  },
  {
   "cell_type": "code",
   "execution_count": 146,
   "metadata": {},
   "outputs": [
    {
     "name": "stdout",
     "output_type": "stream",
     "text": [
      "CG coordinates are not caculated. Only connectivities are calculated\n"
     ]
    }
   ],
   "source": [
    "adjacency_matrix = np.array([[0,1],[1,0]])\n",
    "\n",
    "bonds,angs,dihes = htf.compute_cg_graph(DSGPM=False,adj_mat=adjacency_matrix,group_atoms=False) #Use compute_cg_graph\n",
    "\n",
    "bond_ids,ang_ids,dihe_ids = htf.mol_features_multiple(bonds,molecules=1000,beads=2)\n"
   ]
  },
  {
   "cell_type": "code",
   "execution_count": 155,
   "metadata": {},
   "outputs": [],
   "source": [
    "box=np.array([[-20.4471, -20.4471, -20.4471],[20.4471, 20.4471, 20.4471],[0, 0, 0]],dtype=np.float32)\n",
    "cg_positions = np.load('CG_tutorial/meth_CGtraj_positions.npy')\n",
    "bond_distribution = []\n",
    "for frame in range(cg_positions.shape[0]):\n",
    "    cg_r = []\n",
    "    for i in range(len(bond_ids)):\n",
    "        cg_dist = htf.mol_bond_distance(CG = True, cg_positions = cg_positions[frame],\n",
    "                                     b1=bond_ids[i][0],b2=bond_ids[i][1],box=box)\n",
    "        cg_r.append(cg_dist)\n",
    "        \n",
    "    bond_distribution.append(cg_r)\n",
    "    \n",
    "bond_distribution= np.array(bond_distribution)"
   ]
  },
  {
   "cell_type": "code",
   "execution_count": 161,
   "metadata": {},
   "outputs": [
    {
     "data": {
      "image/png": "[encoded data removed]",
      "text/plain": [
       "<Figure size 432x288 with 1 Axes>"
      ]
     },
     "metadata": {
      "needs_background": "light"
     },
     "output_type": "display_data"
    }
   ],
   "source": [
    "rdata = bond_distribution.reshape((-1))\n",
    "dist_kde = sns.distplot(rdata,bins=100,kde=True)"
   ]
  },
  {
   "cell_type": "code",
   "execution_count": 162,
   "metadata": {},
   "outputs": [
    {
     "name": "stdout",
     "output_type": "stream",
     "text": [
      "1.0349673 1.7184982\n"
     ]
    }
   ],
   "source": [
    "print(min(rdata),max(rdata))"
   ]
  },
  {
   "cell_type": "code",
   "execution_count": 194,
   "metadata": {},
   "outputs": [
    {
     "name": "stdout",
     "output_type": "stream",
     "text": [
      "1.40191 171.71954922166913\n"
     ]
    }
   ],
   "source": [
    "rdata = np.sort(rdata)\n",
    "r_var = np.var(rdata)\n",
    "r0 = stat.mean(rdata)\n",
    "kr = (kb*T/r_var) \n",
    "print(r0,kr)"
   ]
  },
  {
   "cell_type": "code",
   "execution_count": 166,
   "metadata": {},
   "outputs": [],
   "source": [
    "kb = 1.9872/1000\n",
    "T = 300.\n",
    "gr = cg_rdf[0,:]/np.mean(gr[-10:])\n",
    "r = cg_rdf[1,:]\n",
    "#ugr = -T*kb*np.log(gr)\n",
    "#fgr = -np.gradient(ugr,0.01)"
   ]
  },
  {
   "cell_type": "code",
   "execution_count": 169,
   "metadata": {},
   "outputs": [],
   "source": [
    "smooth = interp1d(r,gr,kind='cubic',fill_value = \"extrapolate\")\n",
    "r_smooth = np.arange(1.0,1.8,0.001)\n",
    "gr_smooth = smooth(r_smooth)\n",
    "pair_pot = -T*kb*np.log(gr_smooth)\n",
    "pair_force = -np.gradient(pair_pot,0.001)\n"
   ]
  },
  {
   "cell_type": "code",
   "execution_count": 167,
   "metadata": {},
   "outputs": [
    {
     "data": {
      "image/png": "[encoded data removed]",
      "text/plain": [
       "<Figure size 432x288 with 1 Axes>"
      ]
     },
     "metadata": {
      "needs_background": "light"
     },
     "output_type": "display_data"
    }
   ],
   "source": [
    "plt.plot(r,ugr,color='r',label='U(pair)')\n",
    "plt.plot(r,gr,color='g',label='gr')\n",
    "plt.xlim(1.5,9)\n",
    "plt.ylim(-1,4)\n",
    "plt.show()"
   ]
  },
  {
   "cell_type": "code",
   "execution_count": 197,
   "metadata": {},
   "outputs": [],
   "source": [
    "col_format = \"{0:5.3f}\"+\"{1:10.4f}\"+\"{2:10.4f}\" + '\\n'\n",
    "\n",
    "with open('CG_tutorial/BI_pair_potential.dat','w') as outfile:\n",
    "    for items in zip(r_smooth,pair_pot*10,pair_force):\n",
    "        outfile.write(col_format.format(*items))"
   ]
  },
  {
   "cell_type": "markdown",
   "metadata": {},
   "source": [
    "# Part 2: running CG simulation"
   ]
  },
  {
   "cell_type": "code",
   "execution_count": 208,
   "metadata": {},
   "outputs": [
    {
     "name": "stderr",
     "output_type": "stream",
     "text": [
      "*Warning*: Ignoring new options, cannot change execution mode after initialization.\n"
     ]
    },
    {
     "name": "stdout",
     "output_type": "stream",
     "text": [
      "notice(2): Group \"all\" created containing 2000 particles\n",
      "notice(2): -- Neighborlist exclusion statistics -- :\n",
      "notice(2): Particles with 1 exclusions             : 2000\n",
      "notice(2): Neighbors included by diameter          : no\n",
      "notice(2): Neighbors excluded when in the same body: no\n"
     ]
    },
    {
     "ename": "NameError",
     "evalue": "name 'nl' is not defined",
     "output_type": "error",
     "traceback": [
      "\u001b[0;31m---------------------------------------------------------------------------\u001b[0m",
      "\u001b[0;31mNameError\u001b[0m                                 Traceback (most recent call last)",
      "\u001b[0;32m<ipython-input-208-2b38c06d36b0>\u001b[0m in \u001b[0;36m<module>\u001b[0;34m\u001b[0m\n\u001b[1;32m     14\u001b[0m \u001b[0mbharm\u001b[0m \u001b[0;34m=\u001b[0m \u001b[0mhoomd\u001b[0m\u001b[0;34m.\u001b[0m\u001b[0mmd\u001b[0m\u001b[0;34m.\u001b[0m\u001b[0mbond\u001b[0m\u001b[0;34m.\u001b[0m\u001b[0mharmonic\u001b[0m\u001b[0;34m(\u001b[0m\u001b[0mname\u001b[0m\u001b[0;34m=\u001b[0m\u001b[0;34m'bonds'\u001b[0m\u001b[0;34m)\u001b[0m\u001b[0;34m\u001b[0m\u001b[0;34m\u001b[0m\u001b[0m\n\u001b[1;32m     15\u001b[0m \u001b[0mbharm\u001b[0m\u001b[0;34m.\u001b[0m\u001b[0mbond_coeff\u001b[0m\u001b[0;34m.\u001b[0m\u001b[0mset\u001b[0m\u001b[0;34m(\u001b[0m\u001b[0;34m'B1'\u001b[0m\u001b[0;34m,\u001b[0m\u001b[0mk\u001b[0m\u001b[0;34m=\u001b[0m\u001b[0;36m170.0\u001b[0m\u001b[0;34m,\u001b[0m\u001b[0mr0\u001b[0m\u001b[0;34m=\u001b[0m\u001b[0;36m1.4\u001b[0m\u001b[0;34m)\u001b[0m\u001b[0;34m\u001b[0m\u001b[0;34m\u001b[0m\u001b[0m\n\u001b[0;32m---> 16\u001b[0;31m \u001b[0mlj\u001b[0m \u001b[0;34m=\u001b[0m \u001b[0mhoomd\u001b[0m\u001b[0;34m.\u001b[0m\u001b[0mmd\u001b[0m\u001b[0;34m.\u001b[0m\u001b[0mpair\u001b[0m\u001b[0;34m.\u001b[0m\u001b[0mlj\u001b[0m\u001b[0;34m(\u001b[0m\u001b[0mr_cut\u001b[0m\u001b[0;34m=\u001b[0m\u001b[0;36m3.0\u001b[0m\u001b[0;34m,\u001b[0m \u001b[0mnlist\u001b[0m\u001b[0;34m=\u001b[0m\u001b[0mnl\u001b[0m\u001b[0;34m)\u001b[0m\u001b[0;34m\u001b[0m\u001b[0;34m\u001b[0m\u001b[0m\n\u001b[0m\u001b[1;32m     17\u001b[0m \u001b[0mlj\u001b[0m\u001b[0;34m.\u001b[0m\u001b[0mpair_coeff\u001b[0m\u001b[0;34m.\u001b[0m\u001b[0mset\u001b[0m\u001b[0;34m(\u001b[0m\u001b[0;34m'CG'\u001b[0m\u001b[0;34m,\u001b[0m \u001b[0;34m'CG'\u001b[0m\u001b[0;34m,\u001b[0m \u001b[0mepsilon\u001b[0m\u001b[0;34m=\u001b[0m\u001b[0;36m1.0\u001b[0m\u001b[0;34m,\u001b[0m \u001b[0msigma\u001b[0m\u001b[0;34m=\u001b[0m\u001b[0;36m1.0\u001b[0m\u001b[0;34m)\u001b[0m\u001b[0;34m\u001b[0m\u001b[0;34m\u001b[0m\u001b[0m\n\u001b[1;32m     18\u001b[0m \u001b[0;31m#pairtable = hoomd.md.pair.table(width=800, nlist=nlist)\u001b[0m\u001b[0;34m\u001b[0m\u001b[0;34m\u001b[0m\u001b[0;34m\u001b[0m\u001b[0m\n",
      "\u001b[0;31mNameError\u001b[0m: name 'nl' is not defined"
     ]
    }
   ],
   "source": [
    "hoomd.context.initialize('')\n",
    "s = hoomd.data.make_snapshot(N=2000,box= hoomd.data.boxdim(L=1000),particle_types=['CG'],\n",
    "                              bond_types=['B1'])\n",
    "s.particles.position[:] = np.load('CG_tutorial/meth_CGtraj_positions.npy')[0]\n",
    "s.particles.typeid[:] = 0\n",
    "s.bonds.resize(bond_ids.shape[0])\n",
    "s.bonds.group[:] = bond_ids\n",
    "c = hoomd.context.initialize('--gpu=1')\n",
    "system = hoomd.init.read_snapshot(s)\n",
    "set_rcut = 10.0\n",
    "#/ Set system potentials\n",
    "nlist = hoomd.md.nlist.cell()\n",
    "nlist.reset_exclusions(['bond', 'angle','dihedral'])\n",
    "bharm = hoomd.md.bond.harmonic(name='bonds')\n",
    "bharm.bond_coeff.set('B1',k=170.0,r0=1.4)\n",
    "lj = hoomd.md.pair.lj(r_cut=3.0, nlist=nlist)\n",
    "lj.pair_coeff.set('CG', 'CG', epsilon=1.0, sigma=1.0)\n",
    "#pairtable = hoomd.md.pair.table(width=800, nlist=nlist)\n",
    "#pairtable.set_from_file('CG','CG',filename='CG_tutorial/BI_pair_potential.dat')"
   ]
  },
  {
   "cell_type": "code",
   "execution_count": 206,
   "metadata": {},
   "outputs": [
    {
     "name": "stdout",
     "output_type": "stream",
     "text": [
      "** starting run **\n"
     ]
    },
    {
     "name": "stderr",
     "output_type": "stream",
     "text": [
      "**ERROR**: out of memory before /hoomd/GPUArray.h:947\n"
     ]
    },
    {
     "ename": "RuntimeError",
     "evalue": "CUDA Error",
     "output_type": "error",
     "traceback": [
      "\u001b[0;31m---------------------------------------------------------------------------\u001b[0m",
      "\u001b[0;31mRuntimeError\u001b[0m                              Traceback (most recent call last)",
      "\u001b[0;32m<ipython-input-206-62005b1add1d>\u001b[0m in \u001b[0;36m<module>\u001b[0;34m\u001b[0m\n\u001b[1;32m      7\u001b[0m \u001b[0mnve\u001b[0m \u001b[0;34m=\u001b[0m \u001b[0mhoomd\u001b[0m\u001b[0;34m.\u001b[0m\u001b[0mmd\u001b[0m\u001b[0;34m.\u001b[0m\u001b[0mintegrate\u001b[0m\u001b[0;34m.\u001b[0m\u001b[0mnve\u001b[0m\u001b[0;34m(\u001b[0m\u001b[0mgroup\u001b[0m\u001b[0;34m=\u001b[0m\u001b[0mgroup_all\u001b[0m\u001b[0;34m)\u001b[0m\u001b[0;34m\u001b[0m\u001b[0;34m\u001b[0m\u001b[0m\n\u001b[1;32m      8\u001b[0m \u001b[0mnve\u001b[0m\u001b[0;34m.\u001b[0m\u001b[0mrandomize_velocities\u001b[0m\u001b[0;34m(\u001b[0m\u001b[0mseed\u001b[0m\u001b[0;34m=\u001b[0m\u001b[0;36m1234\u001b[0m\u001b[0;34m,\u001b[0m\u001b[0mkT\u001b[0m\u001b[0;34m=\u001b[0m\u001b[0;36m298.15\u001b[0m \u001b[0;34m*\u001b[0m \u001b[0mkT\u001b[0m\u001b[0;34m)\u001b[0m\u001b[0;34m\u001b[0m\u001b[0;34m\u001b[0m\u001b[0m\n\u001b[0;32m----> 9\u001b[0;31m \u001b[0mhoomd\u001b[0m\u001b[0;34m.\u001b[0m\u001b[0mrun\u001b[0m\u001b[0;34m(\u001b[0m\u001b[0;36m1000\u001b[0m\u001b[0;34m)\u001b[0m\u001b[0;34m\u001b[0m\u001b[0;34m\u001b[0m\u001b[0m\n\u001b[0m\u001b[1;32m     10\u001b[0m \u001b[0;31m#equilibrate\u001b[0m\u001b[0;34m\u001b[0m\u001b[0;34m\u001b[0m\u001b[0;34m\u001b[0m\u001b[0m\n\u001b[1;32m     11\u001b[0m \u001b[0;31m#hoomd.analyze.log(filename=file+'.log',quantities = ['potential_energy', 'kinetic_energy'],\u001b[0m\u001b[0;34m\u001b[0m\u001b[0;34m\u001b[0m\u001b[0;34m\u001b[0m\u001b[0m\n",
      "\u001b[0;32m/scratch/gwellawa/.conda/htf2/lib/python3.7/site-packages/hoomd/__init__.py\u001b[0m in \u001b[0;36mrun\u001b[0;34m(tsteps, profile, limit_hours, limit_multiple, callback_period, callback, quiet)\u001b[0m\n\u001b[1;32m    199\u001b[0m     \u001b[0;32mif\u001b[0m \u001b[0;32mnot\u001b[0m \u001b[0mquiet\u001b[0m\u001b[0;34m:\u001b[0m\u001b[0;34m\u001b[0m\u001b[0;34m\u001b[0m\u001b[0m\n\u001b[1;32m    200\u001b[0m         \u001b[0mcontext\u001b[0m\u001b[0;34m.\u001b[0m\u001b[0mmsg\u001b[0m\u001b[0;34m.\u001b[0m\u001b[0mnotice\u001b[0m\u001b[0;34m(\u001b[0m\u001b[0;36m1\u001b[0m\u001b[0;34m,\u001b[0m \u001b[0;34m\"** starting run **\\n\"\u001b[0m\u001b[0;34m)\u001b[0m\u001b[0;34m;\u001b[0m\u001b[0;34m\u001b[0m\u001b[0;34m\u001b[0m\u001b[0m\n\u001b[0;32m--> 201\u001b[0;31m     \u001b[0mcontext\u001b[0m\u001b[0;34m.\u001b[0m\u001b[0mcurrent\u001b[0m\u001b[0;34m.\u001b[0m\u001b[0msystem\u001b[0m\u001b[0;34m.\u001b[0m\u001b[0mrun\u001b[0m\u001b[0;34m(\u001b[0m\u001b[0mint\u001b[0m\u001b[0;34m(\u001b[0m\u001b[0mtsteps\u001b[0m\u001b[0;34m)\u001b[0m\u001b[0;34m,\u001b[0m \u001b[0mcallback_period\u001b[0m\u001b[0;34m,\u001b[0m \u001b[0mcallback\u001b[0m\u001b[0;34m,\u001b[0m \u001b[0mlimit_hours\u001b[0m\u001b[0;34m,\u001b[0m \u001b[0mint\u001b[0m\u001b[0;34m(\u001b[0m\u001b[0mlimit_multiple\u001b[0m\u001b[0;34m)\u001b[0m\u001b[0;34m)\u001b[0m\u001b[0;34m;\u001b[0m\u001b[0;34m\u001b[0m\u001b[0;34m\u001b[0m\u001b[0m\n\u001b[0m\u001b[1;32m    202\u001b[0m     \u001b[0;32mif\u001b[0m \u001b[0;32mnot\u001b[0m \u001b[0mquiet\u001b[0m\u001b[0;34m:\u001b[0m\u001b[0;34m\u001b[0m\u001b[0;34m\u001b[0m\u001b[0m\n\u001b[1;32m    203\u001b[0m         \u001b[0mcontext\u001b[0m\u001b[0;34m.\u001b[0m\u001b[0mmsg\u001b[0m\u001b[0;34m.\u001b[0m\u001b[0mnotice\u001b[0m\u001b[0;34m(\u001b[0m\u001b[0;36m1\u001b[0m\u001b[0;34m,\u001b[0m \u001b[0;34m\"** run complete **\\n\"\u001b[0m\u001b[0;34m)\u001b[0m\u001b[0;34m;\u001b[0m\u001b[0;34m\u001b[0m\u001b[0;34m\u001b[0m\u001b[0m\n",
      "\u001b[0;31mRuntimeError\u001b[0m: CUDA Error"
     ]
    }
   ],
   "source": [
    "#==========================================\n",
    "group_all = hoomd.group.all()\n",
    "kT = 1.9872/1000\n",
    "\n",
    "timestep = 10/489.9\n",
    "im = hoomd.md.integrate.mode_standard(dt=timestep)\n",
    "nve = hoomd.md.integrate.nve(group=group_all)\n",
    "nve.randomize_velocities(seed=1234,kT=298.15 * kT)\n",
    "hoomd.run(1000)\n",
    "#equilibrate\n",
    "#hoomd.analyze.log(filename=file+'.log',quantities = ['potential_energy', 'kinetic_energy'],\n",
    "#                  period=10,overwrite=True,header_prefix='#')\n",
    "\n",
    "#hoomd.run(nstep)\n"
   ]
  },
  {
   "cell_type": "code",
   "execution_count": null,
   "metadata": {},
   "outputs": [],
   "source": []
  }
 ],
 "metadata": {
  "kernelspec": {
   "display_name": "Python (htf2)",
   "language": "python",
   "name": "htf2"
  },
  "language_info": {
   "codemirror_mode": {
    "name": "ipython",
    "version": 3
   },
   "file_extension": ".py",
   "mimetype": "text/x-python",
   "name": "python",
   "nbconvert_exporter": "python",
   "pygments_lexer": "ipython3",
   "version": "3.7.7"
  }
 },
 "nbformat": 4,
 "nbformat_minor": 4
}
